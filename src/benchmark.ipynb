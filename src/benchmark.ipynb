{
 "cells": [
  {
   "cell_type": "code",
   "execution_count": 1,
   "metadata": {
    "scrolled": true
   },
   "outputs": [],
   "source": [
    "import importlib as imp"
   ]
  },
  {
   "cell_type": "code",
   "execution_count": 2,
   "metadata": {},
   "outputs": [
    {
     "name": "stdout",
     "output_type": "stream",
     "text": [
      "2019-08-16 11:10:24\n"
     ]
    }
   ],
   "source": [
    "# Utilities\n",
    "def verbose_time():\n",
    "    import time\n",
    "    from datetime import datetime\n",
    "    utc_ts = int(time.time())\n",
    "    time_str = datetime.fromtimestamp(utc_ts).strftime('%Y-%m-%d %H:%M:%S')\n",
    "    print(time_str)\n",
    "verbose_time()"
   ]
  },
  {
   "cell_type": "code",
   "execution_count": 3,
   "metadata": {
    "scrolled": true
   },
   "outputs": [],
   "source": [
    "# Process data\n",
    "FN_ITEM_TITLE = \"../data/item_title.index\"\n",
    "FN_UI_ADJ = \"../data/user_items.adjlist\"\n",
    "FN_CORPUS = \"../data/random_walks.corpus\""
   ]
  },
  {
   "cell_type": "code",
   "execution_count": 4,
   "metadata": {
    "scrolled": true
   },
   "outputs": [
    {
     "name": "stdout",
     "output_type": "stream",
     "text": [
      "I0: 动画片 | 超级飞侠第6季：超级飞侠 勇闯天下\n"
     ]
    }
   ],
   "source": [
    "def load_item_titles(fn):\n",
    "    \"\"\"\n",
    "        Load item titles\n",
    "    \"\"\"\n",
    "    item_title_dict = {}\n",
    "    idx = 0\n",
    "    with open(fn) as fd:\n",
    "        for line in fd:\n",
    "            line = line.rstrip()\n",
    "            item_title_dict[\"I{}\".format(idx)] = line\n",
    "            idx += 1\n",
    "    return item_title_dict\n",
    "\n",
    "def readable_results(entries, item_title_dict):\n",
    "    \"\"\"\n",
    "        Print readable search results\n",
    "    \"\"\"\n",
    "    for entry in entries:\n",
    "        if entry[0] in item_title_dict:\n",
    "            print(\"{} {} {}\".format(entry[0], entry[1], item_title_dict[entry[0]]))\n",
    "        else:\n",
    "            print(\"{} {}\".format(entry[0], entry[1]))\n",
    "\n",
    "item_title_dict = load_item_titles(FN_ITEM_TITLE)\n",
    "print(\"I0: {}\".format(item_title_dict[\"I1\"]))"
   ]
  },
  {
   "cell_type": "code",
   "execution_count": 5,
   "metadata": {
    "scrolled": true
   },
   "outputs": [
    {
     "name": "stdout",
     "output_type": "stream",
     "text": [
      "U1->items: ['I24', 'I4', 'I7', 'I1', 'I180', 'I27']\n",
      "I24 电视剧 | 少年江湖物语：鲜衣怒马 青春江湖\n",
      "I4 动画片 | 汪汪队立大功第4季：本领高强的狗狗巡逻队\n",
      "I7 电视剧 | 蜜汁炖鱿鱼：杨紫李现暖心爱恋\n",
      "I1 动画片 | 超级飞侠第6季：超级飞侠 勇闯天下\n",
      "I180 为什么，问小度丨小度小度，为什么会有肉食植物\n",
      "I27 歌单推荐丨励志男声 · 倔强追梦路\n"
     ]
    }
   ],
   "source": [
    "def load_user_items_dict(fn):\n",
    "    \"\"\"\n",
    "        Load user-items adjacent dict\n",
    "    \"\"\"\n",
    "    user_items_dict = {}\n",
    "    with open(fn) as fd:\n",
    "        for line in fd:\n",
    "            arr = line.rstrip().split(\" \")\n",
    "            if len(arr) < 2:\n",
    "                continue\n",
    "            user_items_dict[arr[0]] = arr[1:]\n",
    "    return user_items_dict\n",
    "\n",
    "def readable_user_items(user, user_items_dict, item_title_dict):\n",
    "    \"\"\"\n",
    "        Print readable user's item history\n",
    "    \"\"\"\n",
    "    for item in user_items_dict[user]:\n",
    "        print(\"{} {}\".format(item, item_title_dict[item]))\n",
    "\n",
    "user_items_dict = load_user_items_dict(FN_UI_ADJ)\n",
    "print(\"U1->items: {}\".format(user_items_dict[\"U5670\"]))\n",
    "readable_user_items(\"U5670\", user_items_dict=user_items_dict, item_title_dict=item_title_dict)"
   ]
  },
  {
   "cell_type": "code",
   "execution_count": 6,
   "metadata": {
    "scrolled": true
   },
   "outputs": [],
   "source": [
    "# Create graph\n",
    "import networkx as nx\n",
    "def create_unweighted_graph_with_adjlist_format(fn, is_directed=False):\n",
    "    '''\n",
    "        Creates an undirected unweighted graph with adjacent list format file\n",
    "    '''\n",
    "    G = nx.read_adjlist(fn, comments='#', delimiter=\" \", nodetype=str)\n",
    "    for edge in G.edges():\n",
    "        G[edge[0]][edge[1]]['weight'] = 1\n",
    "    if is_directed:\n",
    "        G = G.to_directed()\n",
    "    return G\n",
    "G = create_unweighted_graph_with_adjlist_format(FN_UI_ADJ, is_directed=False)"
   ]
  },
  {
   "cell_type": "code",
   "execution_count": 7,
   "metadata": {
    "scrolled": true
   },
   "outputs": [
    {
     "data": {
      "text/plain": [
       "['I24']"
      ]
     },
     "execution_count": 7,
     "metadata": {},
     "output_type": "execute_result"
    }
   ],
   "source": [
    "import random\n",
    "random.sample(list(G.neighbors(\"U5670\")), 1)"
   ]
  },
  {
   "cell_type": "code",
   "execution_count": 8,
   "metadata": {
    "scrolled": true
   },
   "outputs": [
    {
     "name": "stdout",
     "output_type": "stream",
     "text": [
      "2019-08-16 11:10:27\n",
      "processed 10000/84018 nodes.\n",
      "processed 20000/84018 nodes.\n",
      "processed 30000/84018 nodes.\n",
      "processed 40000/84018 nodes.\n",
      "processed 50000/84018 nodes.\n",
      "processed 60000/84018 nodes.\n",
      "processed 70000/84018 nodes.\n",
      "processed 80000/84018 nodes.\n",
      "processed 10000/295576 edges.\n",
      "processed 20000/295576 edges.\n",
      "processed 30000/295576 edges.\n",
      "processed 40000/295576 edges.\n",
      "processed 50000/295576 edges.\n",
      "processed 60000/295576 edges.\n",
      "processed 70000/295576 edges.\n",
      "processed 80000/295576 edges.\n",
      "processed 90000/295576 edges.\n",
      "processed 100000/295576 edges.\n",
      "processed 110000/295576 edges.\n",
      "processed 120000/295576 edges.\n",
      "processed 130000/295576 edges.\n",
      "processed 140000/295576 edges.\n",
      "processed 150000/295576 edges.\n",
      "processed 160000/295576 edges.\n",
      "processed 170000/295576 edges.\n",
      "processed 180000/295576 edges.\n",
      "processed 190000/295576 edges.\n",
      "processed 200000/295576 edges.\n",
      "processed 210000/295576 edges.\n",
      "processed 220000/295576 edges.\n",
      "processed 230000/295576 edges.\n",
      "processed 240000/295576 edges.\n",
      "processed 250000/295576 edges.\n",
      "processed 260000/295576 edges.\n",
      "processed 270000/295576 edges.\n",
      "processed 280000/295576 edges.\n",
      "processed 290000/295576 edges.\n",
      "2019-08-16 12:20:45\n"
     ]
    }
   ],
   "source": [
    "# Create walker\n",
    "import graphwalker\n",
    "graphwalker = imp.reload(graphwalker)\n",
    "verbose_time()\n",
    "walker = graphwalker.GraphWalker(G, p=1, q=2)\n",
    "verbose_time()"
   ]
  },
  {
   "cell_type": "code",
   "execution_count": 9,
   "metadata": {
    "scrolled": true
   },
   "outputs": [
    {
     "name": "stdout",
     "output_type": "stream",
     "text": [
      "epoch: 1/1\n",
      "[['U41119', 'I1', 'U81988', 'I1', 'U55262', 'I1', 'U70558', 'I2', 'U65954', 'I2'], ['U79793', 'I68', 'U9492', 'I56', 'U2813', 'I122', 'U29883', 'I56', 'U19033', 'I9'], ['U84337', 'I90', 'U52912', 'I128', 'U71213', 'I2', 'U51752', 'I2', 'U23613', 'I146'], ['U97586', 'I59', 'U44804', 'I59', 'U41840', 'I59', 'U34307', 'I59', 'U3489', 'I72'], ['U49660', 'I8', 'U47701', 'I8', 'U48066', 'I92', 'U5639', 'I2', 'U10043', 'I0']]\n"
     ]
    }
   ],
   "source": [
    "def sample_walks(iterator, num_samples):\n",
    "    arr = []\n",
    "    for _ in range(num_samples):\n",
    "        item = next(iterator, None)\n",
    "        if item is None:\n",
    "            return arr\n",
    "        arr.append(item)\n",
    "    return arr\n",
    "\n",
    "samples = sample_walks(walker.simulate_walks(num_epochs=1, walk_len=10), num_samples=5)\n",
    "print(samples)"
   ]
  },
  {
   "cell_type": "code",
   "execution_count": 10,
   "metadata": {
    "scrolled": true
   },
   "outputs": [
    {
     "name": "stdout",
     "output_type": "stream",
     "text": [
      "2019-08-16 12:20:45\n",
      "epoch: 1/5\n",
      " processed: 10000/84018\n",
      " processed: 20000/84018\n",
      " processed: 30000/84018\n",
      " processed: 40000/84018\n",
      " processed: 50000/84018\n",
      " processed: 60000/84018\n",
      " processed: 70000/84018\n",
      " processed: 80000/84018\n",
      "epoch: 2/5\n",
      " processed: 10000/84018\n",
      " processed: 20000/84018\n",
      " processed: 30000/84018\n",
      " processed: 40000/84018\n",
      " processed: 50000/84018\n",
      " processed: 60000/84018\n",
      " processed: 70000/84018\n",
      " processed: 80000/84018\n",
      "epoch: 3/5\n",
      " processed: 10000/84018\n",
      " processed: 20000/84018\n",
      " processed: 30000/84018\n",
      " processed: 40000/84018\n",
      " processed: 50000/84018\n",
      " processed: 60000/84018\n",
      " processed: 70000/84018\n",
      " processed: 80000/84018\n",
      "epoch: 4/5\n",
      " processed: 10000/84018\n",
      " processed: 20000/84018\n",
      " processed: 30000/84018\n",
      " processed: 40000/84018\n",
      " processed: 50000/84018\n",
      " processed: 60000/84018\n",
      " processed: 70000/84018\n",
      " processed: 80000/84018\n",
      "epoch: 5/5\n",
      " processed: 10000/84018\n",
      " processed: 20000/84018\n",
      " processed: 30000/84018\n",
      " processed: 40000/84018\n",
      " processed: 50000/84018\n",
      " processed: 60000/84018\n",
      " processed: 70000/84018\n",
      " processed: 80000/84018\n",
      "2019-08-16 13:07:45\n"
     ]
    }
   ],
   "source": [
    "# Generate corpus\n",
    "def generate_corpus(generator, fn_corpus):\n",
    "    \"\"\"\n",
    "        Generate corpus\n",
    "    \"\"\"\n",
    "    with open(fn_corpus, \"w\") as fd:\n",
    "        for walk in generator:\n",
    "            fd.write(\"{}\\n\".format(\" \".join(walk)))\n",
    "verbose_time()\n",
    "generate_corpus(walker.simulate_walks(num_epochs=5, walk_len=10), FN_CORPUS)\n",
    "verbose_time()"
   ]
  },
  {
   "cell_type": "code",
   "execution_count": 11,
   "metadata": {
    "scrolled": true
   },
   "outputs": [
    {
     "name": "stdout",
     "output_type": "stream",
     "text": [
      "2019-08-16 13:07:47\n"
     ]
    },
    {
     "name": "stderr",
     "output_type": "stream",
     "text": [
      "/anaconda3/envs/tf13/lib/python3.7/site-packages/smart_open/smart_open_lib.py:398: UserWarning: This function is deprecated, use smart_open.open instead. See the migration notes for details: https://github.com/RaRe-Technologies/smart_open/blob/master/README.rst#migrating-to-the-new-open-function\n",
      "  'See the migration notes for details: %s' % _MIGRATION_NOTES_URL\n"
     ]
    },
    {
     "name": "stdout",
     "output_type": "stream",
     "text": [
      "2019-08-16 13:08:26\n"
     ]
    }
   ],
   "source": [
    "# Learn embeddings\n",
    "import word2vec as w2v\n",
    "w2v = imp.reload(w2v)\n",
    "verbose_time()\n",
    "model = w2v.learn(FN_CORPUS, num_dims=32, window_size=5)\n",
    "verbose_time()"
   ]
  },
  {
   "cell_type": "code",
   "execution_count": 17,
   "metadata": {
    "scrolled": true
   },
   "outputs": [
    {
     "name": "stdout",
     "output_type": "stream",
     "text": [
      "I216 0.6562332510948181 歌单推荐丨清凉一夏：  畅游电子泳池\n",
      "I933 0.6192339062690735 听风水｜张赟慧说风水：不可不知的办公室风水\n",
      "I262 0.5789454579353333 电影 | 惊奇队长：揭秘最强英雄起源\n",
      "I1062 0.575980544090271 音乐MV丨为你推荐田馥甄的《你就不要想起我》\n",
      "I55 0.560906171798706 歌单推荐丨文雅流行，温润的浪漫年代\n",
      "I391 0.5515677332878113 动漫 | 梦幻书院：梦幻西游手游同人动画\n",
      "I448 0.549060583114624 电视剧 | 青春斗：郑爽领衔演绎奋斗青春\n",
      "I296 0.5455194711685181 纪录片 | 大国质量：企业版“大国崛起”\n",
      "I658 0.5414429903030396 电影 | 飞驰人生：沈腾黄景瑜爆燃对决\n",
      "I293 0.5355770587921143 电影 | 雷霆沙赞：搞怪英雄前来参见\n",
      "I764 0.5351083278656006 音乐MV丨为你推荐吴亦凡的《大碗宽面》\n",
      "I64 0.5340047478675842 歌单推荐丨深夜音“药”： 激活你的学习脑细胞\n",
      "I31 0.5333694815635681 歌单推荐丨地下暗黑势力 · 狂躁日语Rap\n",
      "I145 0.5299396514892578 听知识｜超级思维：怎样成为很厉害的人\n",
      "I17 0.528771162033081 动漫 | 龙珠超布罗利：悟吉塔大战布罗利\n",
      "I240 0.5244192481040955 试着说：小度小度，我想听熊猫天天讲故事\n",
      "I350 0.5218261480331421 垃圾分类丨铲屎的，狗毛你知道是什么垃圾嘛？\n",
      "I161 0.5181187987327576 是真是假，问小度丨小度小度，保鲜膜可以减肥吗\n",
      "I328 0.5179069638252258 歌单推荐丨地名民谣 · 致那些漂泊的岁月\n",
      "I144 0.515987753868103 为什么，问小度丨小度小度，为什么蝎毒如此厉害\n"
     ]
    }
   ],
   "source": [
    "# test\n",
    "w2v = imp.reload(w2v)\n",
    "query = \"U361\"\n",
    "entries = w2v.search(model.wv, [query], topk=100000)\n",
    "filtered_entries = []\n",
    "for entry in entries:\n",
    "    if entry[0][0] == \"I\":\n",
    "        filtered_entries.append(entry)\n",
    "#print(\"IN: {} {}\".format(query, item_title_dict[query]))\n",
    "readable_results(filtered_entries[:20], item_title_dict=item_title_dict)"
   ]
  },
  {
   "cell_type": "code",
   "execution_count": 13,
   "metadata": {
    "scrolled": true
   },
   "outputs": [
    {
     "name": "stdout",
     "output_type": "stream",
     "text": [
      "I24 电视剧 | 少年江湖物语：鲜衣怒马 青春江湖\n",
      "I34 小度小度，播放杨宗纬的《是缘》\n",
      "I55 歌单推荐丨文雅流行，温润的浪漫年代\n",
      "I56 垃圾分类丨爆米花一定要吃完，不然真的会很麻烦\n",
      "I98 歌单推荐丨民谣里的姑娘，总是温柔又哀伤\n",
      "I7 电视剧 | 蜜汁炖鱿鱼：杨紫李现暖心爱恋\n",
      "I47 小度小度，播放刺猬乐队的《24小时摇滚聚会》\n",
      "I45 综艺 | 中国新说唱2019：吴亦凡“抛弃”黄旭\n",
      "I40 歌单推荐丨伤感情歌 · 爱是一场高烧\n",
      "I27 歌单推荐丨励志男声 · 倔强追梦路\n",
      "I3 动画片 | 小猪佩奇第6季：佩奇一家的精彩生活\n",
      "I151 垃圾分类丨牙齿本来就不能乱扔。\n",
      "I6 工作了一整天，回家终于可以做回自己\n",
      "I84 情感电台｜幸福女人的聪明恋爱术\n",
      "I18 听一首歌放松一下吧，工作不着急一时完成\n",
      "I85 歌单推荐丨韩式小清新 : 解锁恋爱新格调\n",
      "I15 综艺 | Vlog营业中：揭秘明星工作台前幕后\n",
      "I180 为什么，问小度丨小度小度，为什么会有肉食植物\n",
      "I157 小度小度，播放吴亦凡的《大碗宽面》\n",
      "I59 歌单推荐丨日式消暑：炎夏必备清凉曲\n",
      "I91 歌单推荐丨韩系女友嗓 : 治愈心灵小调\n",
      "I0 动画片 | 海绵宝宝：剧情幽默而充满想象力\n",
      "I38 小度小度，播放薛之谦的《慢半拍》\n",
      "I2 动画片 | 喜羊羊与灰太狼之羊村守护者：羊狼发明大作战\n",
      "I62 小度小度，播放邓超的《银河里最像的人》\n",
      "I78 电视剧 | 追球：巧克力吻甜蜜升级\n",
      "I26 小度小度，播放摩登兄弟的《如约》\n",
      "I104 查百科，问小度丨小度小度，黑洞会发光吗\n",
      "I83 歌单推荐丨效率提速器 · 打败拖延症\n",
      "I53 小度小度，播放许嵩的歌\n",
      "I52 音乐MV丨为你推荐周杰伦的《雨下一整晚》\n",
      "I10 电视剧 | 请赐我一双翅膀：鞠婧祎炎亚纶历磨难\n",
      "I166 垃圾分类丨你猜方便面调料包算什么垃圾？\n",
      "I31 歌单推荐丨地下暗黑势力 · 狂躁日语Rap\n",
      "I144 为什么，问小度丨小度小度，为什么蝎毒如此厉害\n",
      "I1 动画片 | 超级飞侠第6季：超级飞侠 勇闯天下\n",
      "I117 怎么办，问小度丨小度小度，宝宝有痰怎么办\n",
      "I116 垃圾分类丨每天吃鸡蛋，但这个尝试要指导！\n",
      "I216 歌单推荐丨清凉一夏：  畅游电子泳池\n",
      "I70 电影 | 企鹅公路：企鹅军团拯救世界\n",
      "I87 歌单推荐丨华语流行：邂逅晚虹般的你\n",
      "I33 歌单推荐丨恋爱蜜语 : 我和糖哪个甜呀？\n",
      "I64 歌单推荐丨深夜音“药”： 激活你的学习脑细胞\n",
      "I30 歌单推荐丨治愈轻音 · 被风吹过的夏天\n",
      "I90 歌单推荐丨纯音乐：唯美旋律，舒缓解压\n",
      "I36 音乐MV丨为你推荐周杰伦的《甜甜的》\n",
      "I11 音乐｜巅峰热歌榜（每周四更新）\n",
      "I51 垃圾分类丨瓜子很好吃，可瓜子壳你知道是什么垃圾吗？\n",
      "I29 电影 | 捉妖大仙2：孙耀威下凡勇斗仙界\n",
      "I16 动漫 | 叫我僵小鱼叙缘篇：真假僵小鱼的秘密\n",
      "I149 怎么办，问小度丨小度小度，宝宝流鼻涕怎么办\n",
      "I5 电影 | 陈翔六点半之重楼别：追梦大叔走上人生巅峰\n",
      "I95 歌单推荐丨逆风启航 · 不佛系青年励志记\n"
     ]
    }
   ],
   "source": [
    "readable_user_items(\"U361\", user_items_dict=user_items_dict, item_title_dict=item_title_dict)"
   ]
  },
  {
   "cell_type": "code",
   "execution_count": 14,
   "metadata": {
    "scrolled": true
   },
   "outputs": [],
   "source": [
    "# Save\n",
    "w2v = imp.reload(w2v)\n",
    "w2v.save(model, \"../output/user_item.emb\", \"../output/user_item.vocab\")"
   ]
  },
  {
   "cell_type": "code",
   "execution_count": 15,
   "metadata": {
    "scrolled": true
   },
   "outputs": [],
   "source": [
    "# Load\n",
    "w2v = imp.reload(w2v)\n",
    "wv = w2v.load(\"../output/user_item.emb\")"
   ]
  }
 ],
 "metadata": {
  "kernelspec": {
   "display_name": "Python 3",
   "language": "python",
   "name": "python3"
  },
  "language_info": {
   "codemirror_mode": {
    "name": "ipython",
    "version": 3
   },
   "file_extension": ".py",
   "mimetype": "text/x-python",
   "name": "python",
   "nbconvert_exporter": "python",
   "pygments_lexer": "ipython3",
   "version": "3.7.3"
  }
 },
 "nbformat": 4,
 "nbformat_minor": 2
}
